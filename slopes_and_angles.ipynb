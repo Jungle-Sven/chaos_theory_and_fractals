{
  "nbformat": 4,
  "nbformat_minor": 0,
  "metadata": {
    "colab": {
      "name": "slopes_and_angles.ipynb",
      "provenance": [],
      "collapsed_sections": [],
      "authorship_tag": "ABX9TyN+BKpiTTajrKHc/c/C5+xX",
      "include_colab_link": true
    },
    "kernelspec": {
      "name": "python3",
      "display_name": "Python 3"
    },
    "language_info": {
      "name": "python"
    }
  },
  "cells": [
    {
      "cell_type": "markdown",
      "metadata": {
        "id": "view-in-github",
        "colab_type": "text"
      },
      "source": [
        "<a href=\"https://colab.research.google.com/github/Jungle-Sven/slopes_and_angles/blob/main/slopes_and_angles.ipynb\" target=\"_parent\"><img src=\"https://colab.research.google.com/assets/colab-badge.svg\" alt=\"Open In Colab\"/></a>"
      ]
    },
    {
      "cell_type": "code",
      "execution_count": 9,
      "metadata": {
        "id": "_jAYObuUxpup"
      },
      "outputs": [],
      "source": [
        "import pandas as pd\n",
        "import matplotlib.pyplot as plt\n",
        "import numpy as np\n",
        "import os\n",
        "import sqlite3"
      ]
    },
    {
      "cell_type": "code",
      "source": [
        "class Database:\n",
        "    def __init__(self):\n",
        "        self.db_name = 'trades.db'\n",
        "        self.db_folder = 'db'\n",
        "        self.connect_to = self.db_address()\n",
        "\n",
        "\n",
        "\n",
        "    def db_address(self):\n",
        "        connect_to_db = 'sample_data' + os.sep + self.db_folder + os.sep + self.db_name\n",
        "        print(connect_to_db)\n",
        "        return connect_to_db\n",
        "\n",
        "    def create_table_trades(self):\n",
        "        conn = sqlite3.connect(self.connect_to)\n",
        "        conn.execute('''CREATE TABLE if not exists Trades\n",
        "                 (date FLOAT NOT NULL,\n",
        "                  exchange TEXT NOT NULL,\n",
        "                  side TEXT NOT NULL,\n",
        "                  amount FLOAT NOT NULL,\n",
        "                  price FLOAT NOT NULL\n",
        "                  );''')\n",
        "        conn.close()\n",
        "\n",
        "    def add_data_trades(self, date, exchange, side, amount, price):\n",
        "        conn = sqlite3.connect(self.connect_to)\n",
        "        conn.execute(\"INSERT INTO Trades (date, exchange, side, amount, price) VALUES (?, ?, ?, ?, ?)\", (date, exchange, side, amount, price));\n",
        "        conn.commit()\n",
        "        conn.close()\n",
        "\n",
        "    def read_data_trades(self):\n",
        "        conn = sqlite3.connect(self.connect_to)\n",
        "        cursor = conn.execute(\"SELECT * FROM (SELECT * FROM Trades ORDER BY date DESC LIMIT 30000) ORDER BY date ASC;\")\n",
        "        result = cursor.fetchall()\n",
        "        return result"
      ],
      "metadata": {
        "id": "aRD70XPg_Fqx"
      },
      "execution_count": 18,
      "outputs": []
    },
    {
      "cell_type": "markdown",
      "source": [
        "# New Section"
      ],
      "metadata": {
        "id": "Nht5JEuQ-Q3A"
      }
    },
    {
      "cell_type": "code",
      "source": [
        "class ChaosTheoryExperiments:\n",
        "    '''basic class with service funcs, reads data, plots graphs, etc '''\n",
        "    def __init__(self):\n",
        "        self.db = Database()\n",
        "\n",
        "    def read_trades(self):\n",
        "        data = self.db.read_data_trades()\n",
        "        return data\n",
        "\n",
        "    def create_df(self, data):\n",
        "        df = pd.DataFrame(data, columns = ['date', 'exchange', 'side', 'amount', 'price'])\n",
        "        return df\n",
        "\n",
        "    def test_strat(self, df:pd.DataFrame, column:str, border:float = 0):\n",
        "        '''a func to backtest signals\n",
        "        diff_summ shows difference between buy and sell prices'''\n",
        "        position = None\n",
        "        inventory = 100\n",
        "        entry_price = 0\n",
        "        diff_summ = 0\n",
        "        in_position = False\n",
        "        n_trades = 0\n",
        "        profit = 0\n",
        "        for index, value in df.iterrows():\n",
        "            if df.at[index, column] > border:\n",
        "                if position == 'long':\n",
        "                    pass\n",
        "                else:\n",
        "                    position = 'long'\n",
        "                    diff = entry_price - df.at[index, 'price']\n",
        "                    if in_position == True:\n",
        "                        diff_summ += diff\n",
        "                    entry_price = df.at[index, 'price']\n",
        "                    #print('position is ', position, 'entry is ', entry_price, 'diff is ', diff)\n",
        "                    in_position = True\n",
        "                    n_trades += 1\n",
        "            if df.at[index, column] < border:\n",
        "                if position == 'short':\n",
        "                    pass\n",
        "                else:\n",
        "                    position = 'short'\n",
        "                    diff = df.at[index, 'price'] - entry_price\n",
        "                    if in_position == True:\n",
        "                        diff_summ += diff\n",
        "                    entry_price = df.at[index, 'price']\n",
        "                    #print('position is ', position, 'entry is ', entry_price, 'diff is ', diff)\n",
        "                    in_position = True\n",
        "                    n_trades += 1\n",
        "        if n_trades != 0:\n",
        "            profit = (diff_summ) / n_trades\n",
        "        print('diff_summ', diff_summ, 'n_trades', n_trades, 'profit', profit)\n",
        "        return df\n",
        "\n",
        "    def remove_zeros_from_signal(self, df:pd.DataFrame, column:str, start_at_index:int):\n",
        "        '''a func to mark all zero signals as previous signal '''\n",
        "        for index, value in df.iterrows():\n",
        "            if index > start_at_index and df.at[index, column] == 0:\n",
        "                df.at[index, column] = df.at[index-1, column]\n",
        "        return df\n",
        "\n",
        "    def run(self):\n",
        "        '''implement all actions here '''\n",
        "        pass"
      ],
      "metadata": {
        "id": "ETwMxnNAy8tY"
      },
      "execution_count": 11,
      "outputs": []
    },
    {
      "cell_type": "code",
      "source": [
        "class SlopesAndAngles(ChaosTheoryExperiments):\n",
        "    '''best_fit_line - price as a straight line\n",
        "    slope - уклон\n",
        "    angle - угол наклона  '''\n",
        "    def run(self):\n",
        "        data = self.read_trades()\n",
        "        df = self.create_df(data)\n",
        "\n",
        "        '''represent price as a straight line '''\n",
        "        best_fit_line = self.calc_best_fit_line(df)\n",
        "        self.plot_best_fit_line(df.price, best_fit_line)\n",
        "\n",
        "        '''calculate slopes and angles '''\n",
        "        slope, angle = self.calc_slope_and_angle(df.price, range(len(df.price)))\n",
        "        print ('slope: ' + str(slope))\n",
        "        print ('angle: ' + str(angle))\n",
        "\n",
        "    def calc_best_fit_line(self, df):\n",
        "        '''transforms price to straight line '''\n",
        "        x = df.price\n",
        "        y = range(len(x))\n",
        "        best_fit_line = np.poly1d(np.polyfit(y, x, 1))(y)\n",
        "        return best_fit_line\n",
        "\n",
        "    def plot_best_fit_line(self, x, best_fit_line):\n",
        "        plt.figure(figsize=(8,6))\n",
        "        plt.plot(x)\n",
        "        plt.plot(best_fit_line, '--', color='r')\n",
        "        plt.show()\n",
        "\n",
        "    def calc_slope_and_angle(self, y:pd.Series, x:list):\n",
        "        slope = (y.values[-1] - y.values[0]) / (x[-1] - x[0])\n",
        "        angle = np.rad2deg(np.arctan2(y.values[-1] - y.values[0], x[-1] - x[0]))\n",
        "        return slope, angle"
      ],
      "metadata": {
        "id": "7zbAdDKO9KES"
      },
      "execution_count": 12,
      "outputs": []
    },
    {
      "cell_type": "code",
      "source": [
        "zxc = SlopesAndAngles()\n",
        "zxc.run()"
      ],
      "metadata": {
        "colab": {
          "base_uri": "https://localhost:8080/",
          "height": 426
        },
        "id": "5K-TRuJy9dw4",
        "outputId": "375fdab1-b0f4-4b52-e364-eca5670179f4"
      },
      "execution_count": 19,
      "outputs": [
        {
          "output_type": "stream",
          "name": "stdout",
          "text": [
            "sample_data/db/trades.db\n"
          ]
        },
        {
          "output_type": "display_data",
          "data": {
            "text/plain": [
              "<Figure size 576x432 with 1 Axes>"
            ],
            "image/png": "[encoded data removed]"
          },
          "metadata": {
            "needs_background": "light"
          }
        },
        {
          "output_type": "stream",
          "name": "stdout",
          "text": [
            "slope: 0.0029667655588519618\n",
            "angle: 0.16998264661619214\n"
          ]
        }
      ]
    }
  ]
}